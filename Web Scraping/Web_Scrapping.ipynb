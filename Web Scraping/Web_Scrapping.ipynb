{
  "nbformat": 4,
  "nbformat_minor": 0,
  "metadata": {
    "colab": {
      "name": "Web Scrapping.ipynb",
      "provenance": [],
      "collapsed_sections": []
    },
    "kernelspec": {
      "name": "python3",
      "display_name": "Python 3"
    }
  },
  "cells": [
    {
      "cell_type": "code",
      "metadata": {
        "id": "3Yt8gMaaR3HL"
      },
      "source": [
        "import requests\r\n",
        "import bs4\r\n",
        "import shutil"
      ],
      "execution_count": 1,
      "outputs": []
    },
    {
      "cell_type": "code",
      "metadata": {
        "colab": {
          "base_uri": "https://localhost:8080/"
        },
        "id": "AsBYGZtzSE11",
        "outputId": "c17afa94-fe1e-4090-8ed9-d9ddd5fc944f"
      },
      "source": [
        "# url = input(\"https://www.whatmobile.com.pk/\")\r\n",
        "url = \"https://www.whatmobile.com.pk/\"\r\n",
        "path = \"/content/drive/MyDrive/MAJU/Python/web scraping/\"\r\n",
        "\r\n",
        "response= requests.get(url)\r\n",
        "print(type(response))\r\n",
        "# print(response.text)"
      ],
      "execution_count": 8,
      "outputs": [
        {
          "output_type": "stream",
          "text": [
            "<class 'requests.models.Response'>\n"
          ],
          "name": "stdout"
        }
      ]
    },
    {
      "cell_type": "code",
      "metadata": {
        "id": "tPPaBEFOSE6o"
      },
      "source": [
        "filename= \"temp.html\"\r\n",
        "bs= bs4.BeautifulSoup(response.text, \"html.parser\")\r\n",
        "Formatted_text= bs.prettify()\r\n",
        "# print(Formatted_text)"
      ],
      "execution_count": 9,
      "outputs": []
    },
    {
      "cell_type": "code",
      "metadata": {
        "colab": {
          "base_uri": "https://localhost:8080/"
        },
        "id": "mnZ28i-ASE8o",
        "outputId": "09d86bca-4a50-4fe9-a3cf-000adc390d8b"
      },
      "source": [
        "with open(path+filename,\"w+\") as f:\r\n",
        "    f.write(Formatted_text)\r\n",
        "\r\n",
        "list_imgs= bs.find_all('img')\r\n",
        "print(list_imgs)\r\n",
        "\r\n",
        "no_of_imgs= len(list_imgs)\r\n",
        "list_as= bs.find_all('a')\r\n",
        "no_of_as= len(list_as)\r\n",
        "\r\n",
        "print(\"number of img tags\",no_of_imgs)\r\n",
        "print(\"number of as tags\",no_of_as)"
      ],
      "execution_count": 10,
      "outputs": [
        {
          "output_type": "stream",
          "text": [
            "[<img alt=\"Mobile Prices\" border=\"0\" height=\"137\" src=\"images/header-Left-new2.gif\" usemap=\"#Map\" width=\"764\"/>, <img alt=\"Daily Updated Mobile Prices in Pakistan - Mobile Phone Prices Pakistan - What Mobile\" src=\"m/sliderImages/v20a1.jpg\"/>, <img alt=\"Daily Updated Mobile Prices in Pakistan - Mobile Phone Prices Pakistan - What Mobile\" src=\"m/sliderImages/v20a2.jpg\"/>, <img alt=\"Daily Updated Mobile Prices in Pakistan - Mobile Phone Prices Pakistan - What Mobile\" src=\"m/sliderImages/v20a3.jpg\"/>, <img alt=\"Intro\" border=\"0\" height=\"1\" src=\"https://bs.serving-sys.com/serving/adServer.bs?cn=display&amp;c=19&amp;mc=imp&amp;pli=29916999&amp;PluID=0&amp;ord=[timestamp]&amp;rtu=-1\" style=\"display:none;\" width=\"1\"/>, <img alt=\"Samsung Galaxy S20 FE Price\" border=\"0\" src=\"admin/images/Samsung/SamsungGalaxyS20FE-s.jpg\"/>, <img alt=\"Vivo V20 Price\" border=\"0\" src=\"admin/images/Vivo/VivoV20-s.jpg\"/>, <img alt=\"Realme 7 Pro Price\" border=\"0\" src=\"admin/images/Realme/Realme7Pro-s.jpg\"/>, <img alt=\"Oppo F17 Pro Price\" border=\"0\" src=\"admin/images/Oppo/OppoF17Pro-s.jpg\"/>, <img alt=\"Oppo F17 Price\" border=\"0\" src=\"admin/images/Oppo/OppoF17-s.jpg\"/>, <img alt=\"Infinix Note 8 Price\" border=\"0\" src=\"admin/images/Infinix/InfinixNote8-s.jpg\"/>, <img alt=\"Xiaomi Mi 10T Price\" border=\"0\" src=\"admin/images/Xiaomi/XiaomiMi10T-s.jpg\"/>, <img alt=\"Oppo Reno 3 Pro 256GB Price\" border=\"0\" src=\"admin/images/Oppo/OppoReno3Pro256GB-s.jpg\"/>, <img alt=\"Samsung Galaxy A51 8GB Price\" border=\"0\" src=\"admin/images/Samsung/SamsungGalaxyA518GB-s.jpg\"/>, <img alt=\"Samsung Galaxy Z Fold 2 Price\" border=\"0\" src=\"admin/images/Samsung/SamsungGalaxyZFold2-s.jpg\"/>, <img alt=\"Samsung Galaxy Note 20 Price\" border=\"0\" src=\"admin/images/Samsung/SamsungGalaxyNote20-s.jpg\"/>, <img alt=\"Samsung Galaxy Note 20 Ultra Price\" border=\"0\" src=\"admin/images/Samsung/SamsungGalaxyNote20Ultra-s.jpg\"/>, <img alt=\"Vivo V20 SE Price\" border=\"0\" src=\"admin/images/Vivo/VivoV20SE-s.jpg\"/>, <img alt=\"Xiaomi Poco X3 Price\" border=\"0\" src=\"admin/images/Xiaomi/XiaomiPocoX3-s.jpg\"/>, <img alt=\"Samsung Galaxy M31 Price\" border=\"0\" src=\"admin/images/Samsung/SamsungGalaxyM31-s.jpg\"/>, <img alt=\"Huawei Y9a Price\" border=\"0\" src=\"admin/images/Huawei/HuaweiY9a-s.jpg\"/>, <img alt=\"Realme 6 8GB Price\" border=\"0\" src=\"admin/images/Realme/Realme68GB-s.jpg\"/>, <img alt=\"Xiaomi Redmi Note 9 Pro Price\" border=\"0\" src=\"admin/images/Xiaomi/XiaomiRedmiNote9Pro-s.jpg\"/>, <img alt=\"Huawei Y7a Price\" border=\"0\" src=\"admin/images/Huawei/HuaweiY7a-s.jpg\"/>, <img alt=\"Infinix Zero 8i Price\" border=\"0\" src=\"admin/images/Infinix/InfinixZero8i-s.jpg\"/>, <img alt=\"Tecno Camon 16 Price\" border=\"0\" src=\"admin/images/Tecno/TecnoCamon16-s.jpg\"/>, <img alt=\"Vivo Y51 Price\" border=\"0\" src=\"admin/images/Vivo/VivoY51-s.jpg\"/>, <img alt=\"Infinix Zero 8 Price\" border=\"0\" src=\"admin/images/Infinix/InfinixZero8-s.jpg\"/>, <img alt=\"Tecno Camon 16 Premier Price\" border=\"0\" src=\"admin/images/Tecno/TecnoCamon16Premier-s.jpg\"/>, <img alt=\"Xiaomi Poco M3 128GB Price\" border=\"0\" src=\"admin/images/Xiaomi/XiaomiPocoM3128GB-s.jpg\"/>, <img alt=\"Xiaomi Poco M3 Price\" border=\"0\" src=\"admin/images/Xiaomi/XiaomiPocoM3-s.jpg\"/>, <img alt=\"Infinix Note 8i Price\" border=\"0\" src=\"admin/images/Infinix/InfinixNote8i-s.jpg\"/>, <img alt=\"Tecno Camon 16 SE Price\" border=\"0\" src=\"admin/images/Tecno/TecnoCamon16SE-s.jpg\"/>, <img alt=\"Vivo Y20 Price\" border=\"0\" src=\"admin/images/Vivo/VivoY20-s.jpg\"/>, <img alt=\"Infinix Hot 10 Price\" border=\"0\" src=\"admin/images/Infinix/InfinixHot10-s.jpg\"/>, <img alt=\"itel Vison 1 Price\" border=\"0\" src=\"admin/images/itel/itelVison1-s.jpg\"/>, <img alt=\"itel Vision 1 Plus Price\" border=\"0\" src=\"admin/images/itel/itelVison1Plus-s.jpg\"/>, <img alt=\"itel A48 Price\" border=\"0\" src=\"admin/images/itel/itelA48-s.jpg\"/>, <img alt=\"Infinix Smart 5 3GB Price\" border=\"0\" src=\"admin/images/Infinix/InfinixSmart53GB-s.jpg\"/>, <img alt=\"Tecno Spark 6 Go Price\" border=\"0\" src=\"admin/images/Tecno/TecnoSpark6Go-s.jpg\"/>, <img alt=\"Infinix Smart HD Price\" border=\"0\" src=\"admin/images/Infinix/InfinixSmartHD-s.jpg\"/>, <img alt=\"itel Magic 2 Price\" border=\"0\" src=\"admin/images/itel/itelMagic2-s.jpg\"/>, <img alt=\"itel Value 400 Price\" border=\"0\" src=\"admin/images/itel/itelValue400-s.jpg\"/>, <img alt=\"itel 5026 Price\" border=\"0\" src=\"admin/images/itel/itel5026-s.jpg\"/>, <img alt=\"itel A14 Max Price\" border=\"0\" src=\"admin/images/itel/itelA14Max-s.jpg\"/>, <img alt=\"itel Value 110 Price\" border=\"0\" src=\"admin/images/itel/itelValue110-s.jpg\"/>, <img alt=\"itel Value 100 Price\" border=\"0\" src=\"admin/images/itel/itelValue100-s.jpg\"/>, <img alt=\"Budget-friendly Vivo Y52s Unveiled with Solid Internals, 90Hz Display, and 5G-powered Chipset \" async=\"\" data-savepage-src=\"https://www.whatmobile.com.pk/control/news/assets/12122020/f625878845ec43eff89ca9e5844c8bc9_thumb.jpg\" src=\"https://www.whatmobile.com.pk/control/news/assets/12122020/f625878845ec43eff89ca9e5844c8bc9_thumb.jpg\" title=\"Budget-friendly Vivo Y52s Unveiled with Solid Internals, 90Hz Display, and 5G-powered Chipset  \"/>, <img alt=\"Samsung Galaxy S21 Plus Featured in a Hands-on Video; The Galaxy S21 Ultra Will Get S-pen Support \" async=\"\" data-savepage-src=\"https://www.whatmobile.com.pk/control/news/assets/12122020/eced0a15c95c334a571f7cdd52b3a0af_thumb.jpg\" src=\"https://www.whatmobile.com.pk/control/news/assets/12122020/eced0a15c95c334a571f7cdd52b3a0af_thumb.jpg\" title=\"Samsung Galaxy S21 Plus Featured in a Hands-on Video; The Galaxy S21 Ultra Will Get S-pen Support  \"/>, <img alt=\"Vivo Y12s with 5,000 mAh Battery Bags Several Certifications in Asia; Might Soon Come to Pakistan \" async=\"\" data-savepage-src=\"https://www.whatmobile.com.pk/control/news/assets/11122020/95d05c227500368de9ce257d7e8e5370_thumb.jpg\" src=\"https://www.whatmobile.com.pk/control/news/assets/11122020/95d05c227500368de9ce257d7e8e5370_thumb.jpg\" title=\"Vivo Y12s with 5,000 mAh Battery Bags Several Certifications in Asia; Might Soon Come to Pakistan  \"/>, <img alt=\"Oppo Reno 5 5G and Reno 5 Pro 5G Unveiled; New Glow-in-the-Dark Design, 3.5mm Headphone Jack, &amp; Smooth Refresh Rate \" async=\"\" data-savepage-src=\"https://www.whatmobile.com.pk/control/news/assets/11122020/15bb8ee4a26423b09fab24a2bf088487_thumb.jpg\" src=\"https://www.whatmobile.com.pk/control/news/assets/11122020/15bb8ee4a26423b09fab24a2bf088487_thumb.jpg\" title=\"Oppo Reno 5 5G and Reno 5 Pro 5G Unveiled; New Glow-in-the-Dark Design, 3.5mm Headphone Jack, &amp; Smooth Refresh Rate  \"/>, <img alt=\"Xiaomi Redmi 9 Power to Go Official Next Week; Fast Snapdragon Processor, Powerful Battery, and Stereo Speakers \" async=\"\" data-savepage-src=\"https://www.whatmobile.com.pk/control/news/assets/11122020/b10ed8a97a8a5a9f21100007c76ae4b6_thumb.jpg\" src=\"https://www.whatmobile.com.pk/control/news/assets/11122020/b10ed8a97a8a5a9f21100007c76ae4b6_thumb.jpg\" title=\"Xiaomi Redmi 9 Power to Go Official Next Week; Fast Snapdragon Processor, Powerful Battery, and Stereo Speakers  \"/>, <img alt=\"Realme 7i is Coming to Pakistan Next Week; 90Hz Screen, Powerful Processor, and a Versatile Camera on a Budget \" async=\"\" data-savepage-src=\"https://www.whatmobile.com.pk/control/news/assets/10122020/1ab659d9c91fb1a530e8473f40c7a909_thumb.jpg\" src=\"https://www.whatmobile.com.pk/control/news/assets/10122020/1ab659d9c91fb1a530e8473f40c7a909_thumb.jpg\" title=\"Realme 7i is Coming to Pakistan Next Week; 90Hz Screen, Powerful Processor, and a Versatile Camera on a Budget  \"/>, <img alt=\"Realme 7i Price\" border=\"0\" src=\"admin/images/Realme/Realme7i-s.jpg\"/>, <img alt=\"Infinix Hot 10 Lite Price\" border=\"0\" src=\"admin/images/Infinix/InfinixHot10Lite-s.jpg\"/>, <img alt=\"Samsung Galaxy A12 Price\" border=\"0\" src=\"admin/images/Samsung/SamsungGalaxyA12-s.jpg\"/>, <img alt=\"Oppo Reno 5 Price\" border=\"0\" src=\"admin/images/Oppo/OppoReno5-s.jpg\"/>, <img class=\"noBorder\" height=\"16\" src=\"images/upper.gif\" width=\"152\"/>, <img align=\"absbottom\" height=\"17\" src=\"images/new5.GIF\" width=\"35\"/>, <img align=\"absbottom\" height=\"17\" src=\"images/new5.GIF\" width=\"35\"/>, <img align=\"absbottom\" height=\"17\" src=\"images/new5.GIF\" width=\"35\"/>, <img align=\"absbottom\" height=\"17\" src=\"images/new5.GIF\" width=\"35\"/>, <img align=\"absbottom\" height=\"17\" src=\"images/new5.GIF\" width=\"30\"/>, <img align=\"absbottom\" height=\"17\" src=\"images/new5.GIF\" width=\"30\"/>, <img class=\"noBorder\" height=\"19\" src=\"images/bottom.gif\" width=\"152\"/>]\n",
            "number of img tags 65\n",
            "number of as tags 219\n"
          ],
          "name": "stdout"
        }
      ]
    },
    {
      "cell_type": "code",
      "metadata": {
        "colab": {
          "base_uri": "https://localhost:8080/"
        },
        "id": "zbsTWmBASFCg",
        "outputId": "feb17ce1-36af-417d-df5c-f5b96eb49843"
      },
      "source": [
        "# https://www.whatmobile.com.pk/images/header-Left-new2.gif\r\n",
        "\r\n",
        "\r\n",
        "j=1\r\n",
        "for imgTag in list_imgs:\r\n",
        "    # print(imgTag)\r\n",
        "    try:\r\n",
        "       imglink= imgTag.get('src')\r\n",
        "       print(\"Image Link: \", imglink, \"\\n\")\r\n",
        "       if(url not in imglink):\r\n",
        "         imglink = url+imglink\r\n",
        "       ext= imglink[imglink.rindex('.'): ]\r\n",
        "       if ext.startswith(\".png\"):\r\n",
        "           ext= \".png\"\r\n",
        "       elif ext.startswith(\".jpeg\"):\r\n",
        "           ext= \".jpeg\"\r\n",
        "       elif ext.startswith(\".jpg\"):\r\n",
        "           ext= \".jpg\"\r\n",
        "       elif ext.startswith(\".svg\"):\r\n",
        "           ext= \".svg\"\r\n",
        "       elif ext.startswith(\".gif\"):\r\n",
        "           ext= \".gif\"\r\n",
        "       elif ext.startswith(\".GIF\"):\r\n",
        "           ext= \".GIF\"\r\n",
        "       filn= str(j)+ext\r\n",
        "       res= requests.get(imglink,stream= True)\r\n",
        "       with open(path+filn,\"wb\") as file:\r\n",
        "        shutil.copyfileobj(res.raw,file)\r\n",
        "    except Exception as e:\r\n",
        "        print(e)\r\n",
        "\r\n",
        "    # print(ext)\r\n",
        "\r\n",
        "\r\n",
        "    j= j+1"
      ],
      "execution_count": 14,
      "outputs": [
        {
          "output_type": "stream",
          "text": [
            "Image Link:  images/header-Left-new2.gif \n",
            "\n",
            "Image Link:  m/sliderImages/v20a1.jpg \n",
            "\n",
            "Image Link:  m/sliderImages/v20a2.jpg \n",
            "\n",
            "Image Link:  m/sliderImages/v20a3.jpg \n",
            "\n",
            "Image Link:  https://bs.serving-sys.com/serving/adServer.bs?cn=display&c=19&mc=imp&pli=29916999&PluID=0&ord=[timestamp]&rtu=-1 \n",
            "\n",
            "Image Link:  admin/images/Samsung/SamsungGalaxyS20FE-s.jpg \n",
            "\n",
            "Image Link:  admin/images/Vivo/VivoV20-s.jpg \n",
            "\n",
            "Image Link:  admin/images/Realme/Realme7Pro-s.jpg \n",
            "\n",
            "Image Link:  admin/images/Oppo/OppoF17Pro-s.jpg \n",
            "\n",
            "Image Link:  admin/images/Oppo/OppoF17-s.jpg \n",
            "\n",
            "Image Link:  admin/images/Infinix/InfinixNote8-s.jpg \n",
            "\n",
            "Image Link:  admin/images/Xiaomi/XiaomiMi10T-s.jpg \n",
            "\n",
            "Image Link:  admin/images/Oppo/OppoReno3Pro256GB-s.jpg \n",
            "\n",
            "Image Link:  admin/images/Samsung/SamsungGalaxyA518GB-s.jpg \n",
            "\n",
            "Image Link:  admin/images/Samsung/SamsungGalaxyZFold2-s.jpg \n",
            "\n",
            "Image Link:  admin/images/Samsung/SamsungGalaxyNote20-s.jpg \n",
            "\n",
            "Image Link:  admin/images/Samsung/SamsungGalaxyNote20Ultra-s.jpg \n",
            "\n",
            "Image Link:  admin/images/Vivo/VivoV20SE-s.jpg \n",
            "\n",
            "Image Link:  admin/images/Xiaomi/XiaomiPocoX3-s.jpg \n",
            "\n",
            "Image Link:  admin/images/Samsung/SamsungGalaxyM31-s.jpg \n",
            "\n",
            "Image Link:  admin/images/Huawei/HuaweiY9a-s.jpg \n",
            "\n",
            "Image Link:  admin/images/Realme/Realme68GB-s.jpg \n",
            "\n",
            "Image Link:  admin/images/Xiaomi/XiaomiRedmiNote9Pro-s.jpg \n",
            "\n",
            "Image Link:  admin/images/Huawei/HuaweiY7a-s.jpg \n",
            "\n",
            "Image Link:  admin/images/Infinix/InfinixZero8i-s.jpg \n",
            "\n",
            "Image Link:  admin/images/Tecno/TecnoCamon16-s.jpg \n",
            "\n",
            "Image Link:  admin/images/Vivo/VivoY51-s.jpg \n",
            "\n",
            "Image Link:  admin/images/Infinix/InfinixZero8-s.jpg \n",
            "\n",
            "Image Link:  admin/images/Tecno/TecnoCamon16Premier-s.jpg \n",
            "\n",
            "Image Link:  admin/images/Xiaomi/XiaomiPocoM3128GB-s.jpg \n",
            "\n",
            "Image Link:  admin/images/Xiaomi/XiaomiPocoM3-s.jpg \n",
            "\n",
            "Image Link:  admin/images/Infinix/InfinixNote8i-s.jpg \n",
            "\n",
            "Image Link:  admin/images/Tecno/TecnoCamon16SE-s.jpg \n",
            "\n",
            "Image Link:  admin/images/Vivo/VivoY20-s.jpg \n",
            "\n",
            "Image Link:  admin/images/Infinix/InfinixHot10-s.jpg \n",
            "\n",
            "Exceeded 30 redirects.\n",
            "Image Link:  admin/images/itel/itelVison1-s.jpg \n",
            "\n",
            "Image Link:  admin/images/itel/itelVison1Plus-s.jpg \n",
            "\n",
            "Image Link:  admin/images/itel/itelA48-s.jpg \n",
            "\n",
            "Image Link:  admin/images/Infinix/InfinixSmart53GB-s.jpg \n",
            "\n",
            "Image Link:  admin/images/Tecno/TecnoSpark6Go-s.jpg \n",
            "\n",
            "Image Link:  admin/images/Infinix/InfinixSmartHD-s.jpg \n",
            "\n",
            "Image Link:  admin/images/itel/itelMagic2-s.jpg \n",
            "\n",
            "Image Link:  admin/images/itel/itelValue400-s.jpg \n",
            "\n",
            "Image Link:  admin/images/itel/itel5026-s.jpg \n",
            "\n",
            "Image Link:  admin/images/itel/itelA14Max-s.jpg \n",
            "\n",
            "Image Link:  admin/images/itel/itelValue110-s.jpg \n",
            "\n",
            "Image Link:  admin/images/itel/itelValue100-s.jpg \n",
            "\n",
            "Image Link:  https://www.whatmobile.com.pk/control/news/assets/12122020/f625878845ec43eff89ca9e5844c8bc9_thumb.jpg \n",
            "\n",
            "Image Link:  https://www.whatmobile.com.pk/control/news/assets/12122020/eced0a15c95c334a571f7cdd52b3a0af_thumb.jpg \n",
            "\n",
            "Image Link:  https://www.whatmobile.com.pk/control/news/assets/11122020/95d05c227500368de9ce257d7e8e5370_thumb.jpg \n",
            "\n",
            "Image Link:  https://www.whatmobile.com.pk/control/news/assets/11122020/15bb8ee4a26423b09fab24a2bf088487_thumb.jpg \n",
            "\n",
            "Image Link:  https://www.whatmobile.com.pk/control/news/assets/11122020/b10ed8a97a8a5a9f21100007c76ae4b6_thumb.jpg \n",
            "\n",
            "Image Link:  https://www.whatmobile.com.pk/control/news/assets/10122020/1ab659d9c91fb1a530e8473f40c7a909_thumb.jpg \n",
            "\n",
            "Image Link:  admin/images/Realme/Realme7i-s.jpg \n",
            "\n",
            "Image Link:  admin/images/Infinix/InfinixHot10Lite-s.jpg \n",
            "\n",
            "Image Link:  admin/images/Samsung/SamsungGalaxyA12-s.jpg \n",
            "\n",
            "Image Link:  admin/images/Oppo/OppoReno5-s.jpg \n",
            "\n",
            "Image Link:  images/upper.gif \n",
            "\n",
            "Image Link:  images/new5.GIF \n",
            "\n",
            "Image Link:  images/new5.GIF \n",
            "\n",
            "Image Link:  images/new5.GIF \n",
            "\n",
            "Image Link:  images/new5.GIF \n",
            "\n",
            "Image Link:  images/new5.GIF \n",
            "\n",
            "Image Link:  images/new5.GIF \n",
            "\n",
            "Image Link:  images/bottom.gif \n",
            "\n"
          ],
          "name": "stdout"
        }
      ]
    },
    {
      "cell_type": "code",
      "metadata": {
        "id": "fMGCh6rDSE-n"
      },
      "source": [
        ""
      ],
      "execution_count": null,
      "outputs": []
    },
    {
      "cell_type": "code",
      "metadata": {
        "id": "DO_gox_JSFAu"
      },
      "source": [
        ""
      ],
      "execution_count": null,
      "outputs": []
    },
    {
      "cell_type": "code",
      "metadata": {
        "id": "-0d547FxSFEi"
      },
      "source": [
        ""
      ],
      "execution_count": null,
      "outputs": []
    },
    {
      "cell_type": "code",
      "metadata": {
        "id": "taJQZeqqSFGU"
      },
      "source": [
        ""
      ],
      "execution_count": null,
      "outputs": []
    }
  ]
}